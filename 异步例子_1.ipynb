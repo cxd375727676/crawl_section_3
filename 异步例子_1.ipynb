{
 "cells": [
  {
   "cell_type": "code",
   "execution_count": 1,
   "metadata": {},
   "outputs": [],
   "source": [
    "import time\n",
    "import asyncio\n",
    "import nest_asyncio"
   ]
  },
  {
   "cell_type": "code",
   "execution_count": 2,
   "metadata": {},
   "outputs": [],
   "source": [
    "nest_asyncio.apply()\n",
    "urls = ['url_{}'.format(i) for i in range(1,5)]"
   ]
  },
  {
   "cell_type": "code",
   "execution_count": 3,
   "metadata": {
    "scrolled": true
   },
   "outputs": [],
   "source": [
    "def get_data(url):\n",
    "    print(\"url: {}\".format(url))\n",
    "    time.sleep(int(url.split('_')[-1]))\n",
    "    print(\"get data, OK\")\n",
    "\n",
    "def main(urls):\n",
    "    for url in urls:\n",
    "        get_data(url)"
   ]
  },
  {
   "cell_type": "code",
   "execution_count": 4,
   "metadata": {},
   "outputs": [
    {
     "name": "stdout",
     "output_type": "stream",
     "text": [
      "url: url_1\n",
      "get data, OK\n",
      "url: url_2\n",
      "get data, OK\n",
      "url: url_3\n",
      "get data, OK\n",
      "url: url_4\n",
      "get data, OK\n",
      "Wall time: 10 s\n"
     ]
    }
   ],
   "source": [
    "%time main(urls)"
   ]
  },
  {
   "cell_type": "code",
   "execution_count": 5,
   "metadata": {},
   "outputs": [],
   "source": [
    "async def get_data(url):\n",
    "    print(\"url: {}\".format(url))\n",
    "    await asyncio.sleep(int(url.split('_')[-1]))\n",
    "    print(\"get data, OK\")\n",
    "\n",
    "def main(urls):\n",
    "    loop = asyncio.get_event_loop()\n",
    "    coros = [get_data(url) for url in urls]\n",
    "    loop.run_until_complete(asyncio.gather(*coros))\n",
    "    # loop.close()   不能关闭，否则 RuntimeError: Cannot close a running event loop"
   ]
  },
  {
   "cell_type": "code",
   "execution_count": 6,
   "metadata": {
    "scrolled": false
   },
   "outputs": [
    {
     "name": "stdout",
     "output_type": "stream",
     "text": [
      "url: url_4\n",
      "url: url_1\n",
      "url: url_2\n",
      "url: url_3\n",
      "get data, OK\n",
      "get data, OK\n",
      "get data, OK\n",
      "get data, OK\n",
      "Wall time: 4.02 s\n"
     ]
    }
   ],
   "source": [
    "%time main(urls)"
   ]
  }
 ],
 "metadata": {
  "kernelspec": {
   "display_name": "Python 3",
   "language": "python",
   "name": "python3"
  },
  "language_info": {
   "codemirror_mode": {
    "name": "ipython",
    "version": 3
   },
   "file_extension": ".py",
   "mimetype": "text/x-python",
   "name": "python",
   "nbconvert_exporter": "python",
   "pygments_lexer": "ipython3",
   "version": "3.6.2"
  }
 },
 "nbformat": 4,
 "nbformat_minor": 2
}
