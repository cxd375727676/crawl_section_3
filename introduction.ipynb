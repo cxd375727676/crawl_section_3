{
 "cells": [
  {
   "cell_type": "markdown",
   "metadata": {},
   "source": [
    "# <center>开篇介绍</center>\n",
    "\n",
    "作者： 崔庆才\n",
    "\n",
    "[拉勾教育版权所有](https://kaiwu.lagou.com/course/courseInfo.htm?courseId=46)"
   ]
  },
  {
   "cell_type": "markdown",
   "metadata": {},
   "source": [
    "## 课程背景\n",
    "大数据时代，数据已是各家企业立身之根本。如何保护自家数据？如何爬取别人家的数据？成为各家数据工程师的矛和盾，也让爬虫与反爬虫技术在这几年飞速发展。\n",
    "\n",
    "很多有 Python 基础的人，都会选择先学习爬虫，让自己辛苦所学，得以实践。但确发现自己根本爬取不到对方软件的数据？\n",
    "\n",
    "之所以这样，是因为反爬虫技术的进步，让你所学习的爬虫技术，已经落后于这个时代。用“上个时代”的爬虫技术爬取“大数据时代”的数据，必然难有成果。\n",
    "\n",
    "所以，在这个专栏中除了为你讲解爬虫技术的必备知识点，还会结合当下的技术情况为你讲解「JavaScript逆向」「App逆向解密」「深度学习识别验证码」「网页的智能解析」「异步爬取」「反爬取」等最新的爬虫技术。\n",
    "\n",
    "专栏从基础知识点讲起，通过样例代码，帮你搞懂基本用法和原理。每个知识点会结合实际案例，手把手带你进行爬虫实操，加深你对爬虫技术的理解。\n",
    "\n",
    "学了这个专栏之后，你能轻松过掌握当下优秀爬虫所用到的必备技术，应对绝大多数网站的爬取。"
   ]
  },
  {
   "cell_type": "markdown",
   "metadata": {},
   "source": [
    "## 学习收获\n",
    "* 手把手教你样例代码，夯实Python语言基础\n",
    "\n",
    "* 7大模块，拆解不同场景下的爬虫实战案例\n",
    "\n",
    "* 掌握JS逆向、App逆向、异步等全新爬虫知识\n",
    "\n",
    "* 理解从爬取数据到反爬取数据的知识全路径"
   ]
  },
  {
   "cell_type": "markdown",
   "metadata": {},
   "source": [
    "## 课程大纲\n",
    "![课程大纲](./课程大纲.png)"
   ]
  },
  {
   "cell_type": "markdown",
   "metadata": {},
   "source": [
    "## 爬虫痛点\n",
    "* JavaScript逆向：前端代码混淆或加密等\n",
    "* App逆向：数据放置于App端呈现，并将数据接口加密参数的逻辑写入App\n",
    "* 爬虫的运维和管理\n",
    "* 增强型验证码识别\n",
    "* 网页的智能解析"
   ]
  }
 ],
 "metadata": {
  "kernelspec": {
   "display_name": "Python 3",
   "language": "python",
   "name": "python3"
  },
  "language_info": {
   "codemirror_mode": {
    "name": "ipython",
    "version": 3
   },
   "file_extension": ".py",
   "mimetype": "text/x-python",
   "name": "python",
   "nbconvert_exporter": "python",
   "pygments_lexer": "ipython3",
   "version": "3.6.6"
  }
 },
 "nbformat": 4,
 "nbformat_minor": 2
}
